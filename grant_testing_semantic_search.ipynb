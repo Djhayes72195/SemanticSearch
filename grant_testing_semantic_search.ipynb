{
  "cells": [
    {
      "cell_type": "code",
      "execution_count": 2,
      "metadata": {
        "id": "soNwPP9FTNs6"
      },
      "outputs": [],
      "source": [
        "\n",
        "import re\n",
        "from sentence_transformers import SentenceTransformer\n"
      ]
    },
    {
      "cell_type": "code",
      "execution_count": 3,
      "metadata": {
        "id": "59-nM39zPI0F"
      },
      "outputs": [],
      "source": [
        "query = \"the table has columns\""
      ]
    },
    {
      "cell_type": "code",
      "execution_count": 4,
      "metadata": {
        "colab": {
          "base_uri": "https://localhost:8080/"
        },
        "collapsed": true,
        "id": "lQRYclakPRZu",
        "outputId": "b9892b83-15e6-4941-8d01-755f8c991a17"
      },
      "outputs": [
        {
          "name": "stderr",
          "output_type": "stream",
          "text": [
            "/usr/local/lib/python3.10/dist-packages/huggingface_hub/utils/_auth.py:94: UserWarning: \n",
            "The secret `HF_TOKEN` does not exist in your Colab secrets.\n",
            "To authenticate with the Hugging Face Hub, create a token in your settings tab (https://huggingface.co/settings/tokens), set it as secret in your Google Colab and restart your session.\n",
            "You will be able to reuse this secret in all of your notebooks.\n",
            "Please note that authentication is recommended but still optional to access public models or datasets.\n",
            "  warnings.warn(\n"
          ]
        }
      ],
      "source": [
        "\n",
        "model = SentenceTransformer('all-MiniLM-L6-v2')\n",
        "query_embedding = model.encode(query, convert_to_tensor=True)"
      ]
    },
    {
      "cell_type": "code",
      "execution_count": 5,
      "metadata": {
        "colab": {
          "base_uri": "https://localhost:8080/"
        },
        "id": "wEE8kKfzCBRx",
        "outputId": "65f07c93-2c6e-48d6-e1f0-6e61e3dbaeaf"
      },
      "outputs": [
        {
          "data": {
            "text/plain": [
              "{'workvault/bbg vol surface.md': \"\\n- logic\\n\\t- in a nutshell, \\n\\t\\t- implied forward and spot are right\\n\\t\\t- but for discount factor, we will use our own\\n\\t\\t- convert their volatility into adjusted volatility\\n\\n- I have an excel file on my desktop called `bbgvol`\\n# Overrides\\n\\nthis is for the excel file we sent to Yiming\\n\\n- ==Rate set to BBGSOFRRate (just in excel)==\\n- ==rename dividend to bbg dividend (in excel)==\\n- ==price rename to bbg price (also just in excel)==\\n\\n## new explanation\\nsplv internal\\nspx bbg\\n\\nsplv gran\\nsgx gran\\nspx\\n\\n- cutoff date (recluse)\\n- for splv, in recluse, we need to change from lv to the granular. we can also pass in the source (maybe not )... another cutoff date\\n- spx, turn off old process and turn on the new one. We are ready and can do this\\n\\n\\n- current plan is to, by the end of next week, do the deployment\\n- Karthik... model change in month end\\n- the third is the cutoff date\\n\\n\\nkun's process uses cboe data and spx vol \\n\\n## current state\\n- Kun's process uses CBOE data to build SPX vol surface\\n- which, in turn, helps to create the low vol vol surface\\n## future state\\n- bbg directly provides spx vol surface\\n- bbg spx vol surface can not be used to create s&p low vol vol surface\",\n",
              " 'workvault/4441 Cash Flow.md': \"- what's referencing the retiring tables\\n\\t- ir options report, constants.py\\n\\t\\t- in part 1... `class DbTables` and `GET_CASHFLOWS = dods.dbo.cashflows` or something like that... goes to `dods.dbo.cashflowtransactions`\\n\\t- payoff module\\n- the tables should be the same columns, so we might only have to change the name of the table\\nchanges are in the following:\\n- https://securitybenefit.atlassian.net/browse/DB-4561\\n- https://securitybenefit.atlassian.net/browse/DB-4539\\n- https://securitybenefit.atlassian.net/browse/DB-4263\\n\\nconversation in Teams\\n\\nthis seems to be working in 01Q\\n\\n\",\n",
              " 'workvault/bbg vol files.md': 'splv collateral price valuation is on three and four\\n\\ndrlblend collateral valuation (last four)',\n",
              " 'workvault/3850 allocations.md': \"\\n\\n### testing\\n\\n\\n\\n## remaining questions\\n- ==how do we want to do active vs inactive?==\\n- what is the Cain SMA thing? (3850 ticket)... I see it a little in one of the current fx reports, but I don't see it in the mapping, so I'm not sure what we want with it\\n- I made a query\\n\\n\\n# What we are currently doing\\n### batch script\\n- read from `fxdealallocationsview` using the query above to get a list of all the SST deal names with at least one active triton deal\\n- read the state street file and filter out any rows according to the query conditions (including active vs inactive)\\n- calculate allocations\\n### report\\n- read from the calculated allocations\\n- scale the columns\",\n",
              " 'workvault/2024 accomplishments.md': '- gitlab package registries\\n- untracked launch.json from batch scripts\\n- consolidated recluse reports logging\\n- ',\n",
              " 'workvault/bbg vol surface change request.md': \"\\nstop the matlab process <- should we make a different jira ticket for this?\\n\\nDecommission the current implied forward price process as well... \\nI think this is the market data loader\\n\\n```mermaid\\ngraph TD\\n    zen_code\\n    db_table_creation\\n    db_table_creation --> add_imp_div_job\\n    zen_code --> add_imp_div_job\\n    db_table_creation --> add_imp_for_job\\n    zen_code --> add_imp_for_job\\n    chg_vol_surf_job --> recluse\\n    recluse --> chg_vol_surf_job\\n    add_imp_for_job --> recluse\\n    recluse --> del_imp_for_job\\n    add_imp_for_job --> del_imp_for_job    \\n```\\n\\n- when we delete the ==old code for the old zen data loader== for the old vol surface, do we need to pay attention to anything for the backwards compatibility? Or is it that if we delete that old code and use a new vol surface, whenever we want to run historically, we'll want to use that new code?\\n\\t- are there old tables to delete?\\n- when we change the ==vol surface job==, we should delete that old code that runs the old script and table\\n\\t- also, does anything other than recluse use that old data? or can we stop getting it without anything breaking?\\n- Does anything other than recluse use the ==old implied forward price data==?\\n\\t- can we delete the UC4 job that runs that?\\n\\t- can we delete the stored procedure, etc?\\n\\n\\n\"}"
            ]
          },
          "execution_count": 5,
          "metadata": {},
          "output_type": "execute_result"
        }
      ],
      "source": [
        "import os\n",
        "from pathlib import Path\n",
        "\n",
        "def crawl_markdown_files(root_dir):\n",
        "    \"\"\"\n",
        "    Crawls through directory and extracts text from markdown files.\n",
        "    Returns a dict with filepath as key and content as value.\n",
        "    \"\"\"\n",
        "    results = {}\n",
        "\n",
        "    for path in Path(root_dir).rglob('*.md'):\n",
        "        try:\n",
        "            with open(path, 'r', encoding='utf-8') as f:\n",
        "                results[str(path)] = f.read()\n",
        "        except Exception as e:\n",
        "            print(f\"Error reading {path}: {e}\")\n",
        "\n",
        "    return results\n",
        "\n",
        "# Usage example:\n",
        "# files = crawl_markdown_files('/path/to/folder')\n",
        "# for path, content in files.items():\n",
        "#     print(f\"\\n=== {path} ===\\n{content[:100]}...\")\n",
        "\n",
        "crawled_result = crawl_markdown_files('workvault')\n",
        "crawled_result"
      ]
    },
    {
      "cell_type": "code",
      "execution_count": 6,
      "metadata": {
        "colab": {
          "base_uri": "https://localhost:8080/"
        },
        "id": "htPAUyMqCSoP",
        "outputId": "9111838a-169a-474a-ba95-0d5d247b00a6"
      },
      "outputs": [
        {
          "data": {
            "text/plain": [
              "tensor([[-0.0987, -0.0384, -0.0036,  ..., -0.0757, -0.0636,  0.0168],\n",
              "        [-0.0548,  0.0196, -0.1599,  ..., -0.0499,  0.0533,  0.0237],\n",
              "        [-0.0588, -0.0151, -0.0652,  ..., -0.0615, -0.0658,  0.0105],\n",
              "        [ 0.0039, -0.0410, -0.0919,  ..., -0.0641, -0.1409,  0.0316],\n",
              "        [-0.0406, -0.0418, -0.0468,  ..., -0.0347,  0.0147, -0.0380],\n",
              "        [-0.1479, -0.0035, -0.0402,  ..., -0.0552,  0.0115, -0.0297]],\n",
              "       device='cuda:0')"
            ]
          },
          "execution_count": 6,
          "metadata": {},
          "output_type": "execute_result"
        }
      ],
      "source": [
        "crawled_result_embeddings = model.encode(list(crawled_result.values()), convert_to_tensor=True)\n",
        "crawled_result_embeddings"
      ]
    },
    {
      "cell_type": "code",
      "execution_count": 7,
      "metadata": {
        "id": "GIo_g3cWVmPb"
      },
      "outputs": [],
      "source": [
        "def split_sentences(text):\n",
        "    # Split on \". \" or \".\\n\" while keeping the period as part of the sentence\n",
        "    sentences = re.split(r'(?<=[.?!])\\s+|\\n+', text.strip())\n",
        "    return [s.strip() for s in sentences if s.strip()]"
      ]
    },
    {
      "cell_type": "code",
      "execution_count": 11,
      "metadata": {
        "colab": {
          "base_uri": "https://localhost:8080/"
        },
        "id": "ANdKO5xC-oYP",
        "outputId": "36025191-a926-47ef-e0fd-29e28ac3ac7d"
      },
      "outputs": [
        {
          "name": "stdout",
          "output_type": "stream",
          "text": [
            "[1, 3, 5, 0, 2, 4]\n"
          ]
        }
      ],
      "source": [
        "\n",
        "from annoy import AnnoyIndex\n",
        "import random\n",
        "\n",
        "f = 384  # Length of item vector that will be indexed\n",
        "\n",
        "t = AnnoyIndex(f, 'angular')\n",
        "for i, content_from_one_file in enumerate(crawled_result_embeddings):\n",
        "    t.add_item(i, content_from_one_file)\n",
        "\n",
        "t.build(10) # 10 trees\n",
        "t.save('test.ann')\n",
        "\n",
        "# ...\n",
        "\n",
        "u = AnnoyIndex(f, 'angular')\n",
        "u.load('test.ann') # super fast, will just mmap the file\n",
        "print(u.get_nns_by_item(1, 10)) # will find the 1000 nearest neighbors\n",
        "# %%"
      ]
    },
    {
      "cell_type": "code",
      "execution_count": 12,
      "metadata": {
        "id": "79mqjX99AEb8"
      },
      "outputs": [],
      "source": [
        "new_query_text = \"the tables have columns\"\n",
        "new_query_embedding = model.encode(new_query_text, convert_to_tensor=True)"
      ]
    },
    {
      "cell_type": "code",
      "execution_count": 13,
      "metadata": {
        "colab": {
          "base_uri": "https://localhost:8080/"
        },
        "collapsed": true,
        "id": "B2O7ecOvBO5O",
        "outputId": "7a20c418-76f8-4b0e-bc53-2e1ff11e5641"
      },
      "outputs": [
        {
          "data": {
            "text/plain": [
              "tensor([ 9.2987e-02, -1.2371e-02, -9.6249e-02,  3.9771e-02, -1.5807e-02,\n",
              "         2.4976e-02, -2.5786e-02, -9.6263e-03, -1.6224e-02,  5.5915e-02,\n",
              "         8.2928e-02, -3.2445e-02,  2.3460e-02, -2.1310e-02, -1.0056e-01,\n",
              "        -7.6212e-03, -8.4057e-02,  2.5401e-02, -4.4341e-02,  2.8322e-02,\n",
              "        -7.6744e-02, -4.4769e-02, -8.5535e-03, -3.0795e-02,  3.7033e-02,\n",
              "         9.9162e-02, -4.3898e-02,  8.3804e-02, -4.2000e-02, -7.9304e-02,\n",
              "        -1.1251e-01,  2.0713e-02, -8.7833e-04,  5.8709e-02, -4.0790e-02,\n",
              "        -8.7809e-02,  2.1477e-02,  4.0036e-02, -1.0505e-03,  8.2923e-03,\n",
              "        -6.4526e-02, -1.4980e-01,  5.2970e-02,  3.1312e-02,  1.0414e-02,\n",
              "         8.3096e-03, -7.0056e-02,  5.9505e-03, -1.9980e-03,  1.4767e-02,\n",
              "        -8.1786e-02,  8.4996e-02, -1.0013e-02,  5.5677e-02,  9.2588e-03,\n",
              "        -6.9061e-03, -6.1301e-02, -1.6839e-02,  1.4050e-02,  6.5332e-02,\n",
              "        -8.9166e-02, -5.8575e-03,  2.8892e-02,  7.2687e-02, -1.0963e-02,\n",
              "         1.3373e-02, -6.9836e-02,  3.4167e-02, -4.2943e-02, -2.3390e-04,\n",
              "         2.4922e-02,  1.8562e-02, -4.7210e-02, -3.4908e-02, -1.8074e-02,\n",
              "        -1.3939e-02, -2.3708e-02, -1.0758e-02,  1.0568e-02, -2.5977e-02,\n",
              "        -6.5640e-02,  3.9772e-02, -4.9561e-02,  1.7556e-02, -4.5187e-02,\n",
              "        -2.9424e-02,  2.9278e-02, -6.7159e-03, -1.2547e-01, -4.3036e-02,\n",
              "         2.0999e-02,  4.1412e-02,  1.0077e-02,  3.9994e-02, -1.1341e-01,\n",
              "        -3.6523e-03,  7.2432e-02, -3.3735e-02,  6.1996e-02,  7.2690e-02,\n",
              "         2.4982e-02,  4.5334e-04,  1.9056e-03,  9.7506e-02, -9.8199e-02,\n",
              "        -5.4481e-02,  3.9953e-02,  2.0754e-02,  2.1345e-02, -3.7363e-02,\n",
              "        -3.2085e-02, -1.9586e-02, -8.1225e-02, -5.1949e-02, -8.3361e-02,\n",
              "        -1.6855e-02, -1.0700e-01, -3.4990e-02,  7.5054e-03, -8.0636e-02,\n",
              "         3.6259e-02,  3.9893e-02, -2.2348e-02,  2.1886e-02, -6.3778e-02,\n",
              "         3.0238e-02, -1.4366e-03, -4.1135e-33, -3.5598e-02, -3.9492e-02,\n",
              "         7.4127e-02,  6.6883e-03,  6.2591e-02,  2.2414e-02,  3.4101e-02,\n",
              "         2.2652e-02,  5.1140e-02,  7.9551e-02, -3.9678e-02,  3.0761e-02,\n",
              "         1.4507e-02,  7.7729e-03,  4.1570e-02,  5.2420e-02,  1.8134e-02,\n",
              "         3.5326e-02, -6.4564e-02,  6.0253e-03,  1.0997e-03,  5.6448e-02,\n",
              "         5.3137e-02,  3.6010e-02,  9.8829e-02,  3.5999e-02, -3.6296e-02,\n",
              "         5.5315e-02, -7.3669e-03,  3.9974e-02,  4.7680e-02,  4.3274e-02,\n",
              "        -6.8791e-02, -5.6665e-02,  8.2604e-03,  1.6979e-02,  8.6842e-03,\n",
              "         1.5297e-02,  9.0836e-02,  2.0203e-02,  1.4872e-02, -1.9329e-02,\n",
              "        -6.1205e-02, -2.3645e-02,  1.9205e-02,  1.5415e-02,  6.3107e-02,\n",
              "         2.2826e-02, -4.5013e-02, -1.4876e-02,  3.8795e-02, -1.0807e-02,\n",
              "        -3.9405e-02,  3.9600e-02,  9.5405e-02,  1.3691e-02, -5.9710e-02,\n",
              "         2.0454e-02,  2.4354e-02,  4.1547e-02, -7.9256e-03, -4.9672e-02,\n",
              "        -6.9834e-02, -3.7952e-02, -4.9922e-02,  1.0177e-01, -7.3859e-02,\n",
              "        -3.6578e-02,  1.2253e-01,  5.3197e-03, -5.9034e-02, -1.7569e-02,\n",
              "         7.1084e-02,  4.0179e-02, -7.6622e-03,  2.8676e-02,  2.3182e-03,\n",
              "        -9.1704e-02, -4.1578e-02,  8.6450e-04,  3.8210e-02,  4.7463e-02,\n",
              "        -9.4584e-02, -6.0963e-02, -1.1015e-01, -5.0989e-02,  6.2870e-03,\n",
              "        -7.8673e-02,  1.2532e-03, -4.8548e-02, -3.9705e-02, -3.2371e-02,\n",
              "         1.9513e-02,  4.0224e-03, -3.9736e-02,  5.0071e-34, -2.8612e-02,\n",
              "         5.5014e-02, -1.1758e-01, -8.3240e-02,  5.0900e-02,  1.6241e-02,\n",
              "         3.0474e-02, -8.2301e-02,  2.5876e-03,  4.4496e-02,  2.6121e-02,\n",
              "        -5.2891e-02, -4.2477e-02, -3.3763e-02,  5.7470e-02,  3.8175e-02,\n",
              "         5.6061e-02,  2.0389e-02, -5.6518e-02,  5.5144e-03,  2.7185e-03,\n",
              "         1.1170e-01,  1.0430e-02,  4.2116e-02,  3.8008e-02,  7.8136e-03,\n",
              "        -9.7672e-03, -5.9824e-02, -2.4559e-02,  5.1758e-02,  1.8053e-02,\n",
              "        -1.0884e-01, -9.7045e-03,  6.4537e-02, -3.1954e-02, -2.4319e-02,\n",
              "        -3.0234e-02, -5.3315e-02,  3.9530e-02, -1.3048e-02, -1.1450e-02,\n",
              "        -3.2039e-03,  6.7805e-02,  1.1499e-01,  1.7357e-02,  4.4348e-02,\n",
              "         3.0949e-02, -5.2694e-02, -1.3467e-02, -4.6748e-02,  1.3122e-03,\n",
              "        -2.4250e-02, -4.3046e-02, -9.0215e-02,  6.3169e-02,  1.9170e-02,\n",
              "         1.0571e-02,  1.6866e-02,  2.0149e-02,  2.7754e-02,  2.0940e-02,\n",
              "         1.1630e-01,  3.7378e-02,  8.1651e-02,  6.5637e-02, -5.3681e-03,\n",
              "        -2.5752e-02, -2.5787e-02, -1.6987e-02,  5.6529e-02, -1.0702e-01,\n",
              "        -1.8890e-02, -1.7546e-02, -4.9251e-03,  7.5954e-02,  4.2716e-02,\n",
              "        -1.3381e-01,  3.4761e-02, -3.6893e-02, -6.7195e-02, -2.2833e-02,\n",
              "        -3.6034e-02,  1.1403e-01, -5.5212e-03, -7.8333e-02, -9.5906e-03,\n",
              "         4.9027e-02, -3.2595e-02,  3.0774e-02,  7.5874e-02,  1.2420e-02,\n",
              "        -1.1716e-02,  8.5235e-03,  3.2691e-02, -5.8059e-03, -1.2943e-08,\n",
              "         4.3562e-02, -7.4429e-02, -1.2234e-02,  1.1273e-02,  4.5048e-02,\n",
              "        -8.7825e-02,  7.3738e-02,  1.0301e-01, -3.5803e-02,  3.2391e-03,\n",
              "         7.3923e-02,  6.9719e-02, -3.2598e-02, -1.4233e-02,  6.2358e-02,\n",
              "         3.9858e-02, -2.1803e-02, -1.6540e-02, -1.2169e-02, -2.7642e-02,\n",
              "         3.1349e-02,  1.1457e-02, -2.6222e-02,  5.4316e-02,  4.8701e-02,\n",
              "         7.6998e-03, -6.0408e-02,  7.1260e-03,  3.6518e-02,  1.0015e-01,\n",
              "         5.8755e-02, -6.2234e-02,  5.7828e-02, -2.8684e-02,  1.4361e-01,\n",
              "        -7.4311e-03,  1.7353e-02, -5.1839e-02, -5.0116e-02, -4.5963e-02,\n",
              "        -3.1227e-02, -4.4060e-02, -3.0872e-02, -1.5598e-02,  9.3917e-03,\n",
              "         3.3434e-02, -6.0987e-02,  6.0499e-02, -1.9090e-02, -1.1071e-01,\n",
              "        -2.4619e-02, -5.2893e-02, -3.7660e-04, -2.2714e-02, -6.8170e-02,\n",
              "         3.5130e-02,  5.5836e-02,  2.8960e-02,  9.7731e-02, -6.5382e-02,\n",
              "         5.5435e-03,  8.7715e-02,  4.1495e-02,  2.0556e-02], device='cuda:0')"
            ]
          },
          "execution_count": 13,
          "metadata": {},
          "output_type": "execute_result"
        }
      ],
      "source": [
        "lookup_vec = new_query_embedding.unsqueeze(0)[0]\n",
        "lookup_vec"
      ]
    },
    {
      "cell_type": "code",
      "execution_count": 14,
      "metadata": {
        "colab": {
          "base_uri": "https://localhost:8080/"
        },
        "id": "DQP9UUuL-4B4",
        "outputId": "66ecd9fd-85b9-4d91-feb9-a3655ba68148"
      },
      "outputs": [
        {
          "name": "stdout",
          "output_type": "stream",
          "text": [
            "1\n",
            "3\n",
            "5\n"
          ]
        }
      ],
      "source": [
        "\n",
        "for ans_index in u.get_nns_by_vector(lookup_vec, 3):\n",
        "  print(ans_index)\n",
        "\n",
        "  # crawled_result_embeddings.values()[ans_index]"
      ]
    },
    {
      "cell_type": "code",
      "execution_count": 17,
      "metadata": {
        "colab": {
          "base_uri": "https://localhost:8080/"
        },
        "id": "6GjfUETR_5eL",
        "outputId": "b7b7a305-bfac-4f87-d220-01728587f35d"
      },
      "outputs": [
        {
          "name": "stdout",
          "output_type": "stream",
          "text": [
            "- what's referencing the retiring tables\n",
            "\t- ir options report, constants.py\n",
            "\t\t- in part 1... `class DbTables` and `GET_CASHFLOWS = dods.dbo.cashflows` or something like that... goes to `dods.dbo.cashflowtransactions`\n",
            "\t- payoff module\n",
            "- the tables should be the same columns, so we might only have to change the name of the table\n",
            "changes are in the following:\n",
            "- https://securitybenefit.atlassian.net/browse/DB-4561\n",
            "- https://securitybenefit.atlassian.net/browse/DB-4539\n",
            "- https://securitybenefit.atlassian.net/browse/DB-4263\n",
            "\n",
            "conversation in Teams\n",
            "\n",
            "this seems to be working in 01Q\n",
            "\n",
            "\n"
          ]
        }
      ],
      "source": [
        "print(list(crawled_result.values())[1])\n"
      ]
    },
    {
      "cell_type": "code",
      "execution_count": null,
      "metadata": {
        "id": "8X0SreDRDH-b"
      },
      "outputs": [],
      "source": []
    }
  ],
  "metadata": {
    "accelerator": "GPU",
    "colab": {
      "gpuType": "T4",
      "provenance": []
    },
    "kernelspec": {
      "display_name": "Python 3",
      "name": "python3"
    },
    "language_info": {
      "name": "python",
      "version": "3.11.7"
    }
  },
  "nbformat": 4,
  "nbformat_minor": 0
}
