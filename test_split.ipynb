{
 "cells": [
  {
   "cell_type": "code",
   "execution_count": 15,
   "id": "9c0cd149-0ce8-4367-9f43-786a1ee4b06b",
   "metadata": {},
   "outputs": [],
   "source": [
    "# import torch\n",
    "# # from torch import nn\n",
    "import os\n",
    "import re\n",
    "from transformers import pipeline\n",
    "from sentence_transformers import SentenceTransformer\n",
    "from sentence_transformers.util import cos_sim"
   ]
  },
  {
   "cell_type": "code",
   "execution_count": 16,
   "id": "27e6f1cd-a462-42b3-b162-9dcc6104b053",
   "metadata": {},
   "outputs": [
    {
     "name": "stdout",
     "output_type": "stream",
     "text": [
      "['Anaphase.md', 'Metaphase.md', 'Prometaphase.md', 'Prophase.md', 'Telophase.md']\n"
     ]
    }
   ],
   "source": [
    "path = r\"C:\\Users\\The Vollbrecht's\\OneDrive\\Documents\\Obsidian Vault\\Hackathon\\Mitosis\"\n",
    "files = os.listdir(path)\n",
    "print(files)\n",
    "big_string = \"\"\n",
    "string_list = []\n",
    "for file in files:\n",
    "    with open(fr\"{path}\\{file}\", \"r\", encoding=\"utf-8\") as file:\n",
    "        markdown_text = file.read()\n",
    "    big_string += markdown_text\n",
    "    string_list.append(markdown_text)\n",
    "    "
   ]
  },
  {
   "cell_type": "code",
   "execution_count": 17,
   "id": "60f5a7d3-eb93-4dac-b79e-327ab61aadcf",
   "metadata": {},
   "outputs": [
    {
     "data": {
      "text/plain": [
       "1450"
      ]
     },
     "execution_count": 17,
     "metadata": {},
     "output_type": "execute_result"
    }
   ],
   "source": [
    "len(big_string)\n",
    "half = round(len(big_string)/2)\n",
    "half"
   ]
  },
  {
   "cell_type": "code",
   "execution_count": 18,
   "id": "c01a2d11-21a6-4bd5-a6e0-a582c7ded61b",
   "metadata": {},
   "outputs": [],
   "source": [
    "## enocde text\n",
    "model = SentenceTransformer('all-MiniLM-L6-v2')\n",
    "all_embedding = model.encode(big_string, convert_to_tensor=True)\n",
    "top_half = model.encode(big_string[:half], convert_to_tensor=True)\n",
    "bot_half = model.encode(big_string[half:], convert_to_tensor=True)\n",
    "corpus_embeddings = [model.encode(file, convert_to_tensor=True) for file in string_list]"
   ]
  },
  {
   "cell_type": "code",
   "execution_count": 23,
   "id": "1684f7d5-48a9-48b7-8739-26cd3cce8d0e",
   "metadata": {},
   "outputs": [],
   "source": [
    "query = 'chromosomes line up in the center of the cell'\n",
    "query_embedding = model.encode(query, convert_to_tensor=True)"
   ]
  },
  {
   "cell_type": "code",
   "execution_count": 24,
   "id": "7c39a11a-30c3-42a7-8c92-f53b1bd794e8",
   "metadata": {},
   "outputs": [
    {
     "name": "stdout",
     "output_type": "stream",
     "text": [
      "tensor([[0.5722]], device='cuda:0')\n"
     ]
    }
   ],
   "source": [
    "print(cos_sim(query_embedding,top_half))"
   ]
  },
  {
   "cell_type": "code",
   "execution_count": 25,
   "id": "c95a1272-b52c-439a-b563-f4b6a5dc834a",
   "metadata": {},
   "outputs": [
    {
     "name": "stdout",
     "output_type": "stream",
     "text": [
      "tensor([[0.6096]], device='cuda:0')\n"
     ]
    }
   ],
   "source": [
    "print(cos_sim(query_embedding,bot_half))"
   ]
  },
  {
   "cell_type": "code",
   "execution_count": 26,
   "id": "bc888a42-c102-40bd-8382-c248a891ed5d",
   "metadata": {},
   "outputs": [
    {
     "name": "stdout",
     "output_type": "stream",
     "text": [
      "tensor([[0.5252]], device='cuda:0')\n",
      "tensor([[0.6053]], device='cuda:0')\n",
      "tensor([[0.5657]], device='cuda:0')\n",
      "tensor([[0.6339]], device='cuda:0')\n",
      "tensor([[0.5724]], device='cuda:0')\n"
     ]
    }
   ],
   "source": [
    "for c in corpus_embeddings:\n",
    "    print(cos_sim(query_embedding,c))"
   ]
  },
  {
   "cell_type": "code",
   "execution_count": null,
   "id": "42775aa3-6531-4d36-a5a2-bae3ed55c0e0",
   "metadata": {},
   "outputs": [],
   "source": []
  }
 ],
 "metadata": {
  "kernelspec": {
   "display_name": "Python 3 (ipykernel)",
   "language": "python",
   "name": "python3"
  },
  "language_info": {
   "codemirror_mode": {
    "name": "ipython",
    "version": 3
   },
   "file_extension": ".py",
   "mimetype": "text/x-python",
   "name": "python",
   "nbconvert_exporter": "python",
   "pygments_lexer": "ipython3",
   "version": "3.12.6"
  }
 },
 "nbformat": 4,
 "nbformat_minor": 5
}
