{
 "cells": [
  {
   "cell_type": "markdown",
   "metadata": {},
   "source": [
    "This notebook will be used to parse the SQuAD dataset into the format that the semantic search app expects.\n",
    "\n",
    "The SQuAD dataset consists of 100,000 question ans answer pairs based on a set of wikipedia articles. Half of the questions are unanswerable, which is good for us because we want to prepare for the possibility that the there is no good answer to the user's query.\n",
    "\n",
    "The SQuAD dataset is natively stored as a json. The goal of this notebook is convert it into the format our app expects: a set of markdown files containing the wikipedia excerpts and a json dedicated to the question/answer pairs."
   ]
  },
  {
   "cell_type": "code",
   "execution_count": 1,
   "metadata": {},
   "outputs": [],
   "source": [
    "import sys\n",
    "from pathlib import Path\n",
    "ROOT_DIR = Path.cwd().parent\n",
    "sys.path.append(str(ROOT_DIR))\n",
    "from path_utils import RAW_DATA_PATH, TEST_DATA_PATH, QUESTION_ANSWER_PATH\n",
    "import json\n",
    "\n",
    "path_to_squad = RAW_DATA_PATH / \"squad_data.json\"\n",
    "\n",
    "with open(path_to_squad, 'r') as f:\n",
    "    raw_squad_data = json.load(f)\n",
    "\n"
   ]
  },
  {
   "cell_type": "code",
   "execution_count": 2,
   "metadata": {},
   "outputs": [],
   "source": [
    "import re\n",
    "\n",
    "output_dir = TEST_DATA_PATH / \"SQuAD\"\n",
    "output_dir.mkdir(parents=True, exist_ok=True)\n",
    "\n",
    "qa_path = QUESTION_ANSWER_PATH / \"SQuAD\"\n",
    "\n",
    "final_qas = []\n",
    "\n",
    "def sanitize_filename(filename):\n",
    "    return re.sub(r'[<>:\"/\\\\|?*]', '_', filename)\n",
    "\n",
    "for entry in raw_squad_data[\"data\"][0:5]:\n",
    "    article_title =  sanitize_filename(entry[\"title\"])\n",
    "    md_file_contents = f\"# {article_title}\\n\\n\"\n",
    "\n",
    "    content = entry[\"paragraphs\"]\n",
    "    article_contents = []\n",
    "    for item in content:\n",
    "        text = item[\"context\"]\n",
    "        md_file_contents += f\"\\n{text}\\n\\n\"\n",
    "        qas = item[\"qas\"]\n",
    "        for qa in qas:\n",
    "            question = qa[\"question\"]\n",
    "            # We are searching for relevance, not correctness.\n",
    "            # For now we treat impossible questions the same. \n",
    "            answers_key = \"plausible_answers\" if qa[\"is_impossible\"] else \"answers\"\n",
    "            answers = qa[answers_key]\n",
    "            for answer in answers:\n",
    "                answer_text = answer[\"text\"]\n",
    "                # NOTE: find will return the first occurance of the substring.\n",
    "                # If there is more than one occurance, there is no way to tell which\n",
    "                # is more \"correct\". Ideally we might want to retain the information\n",
    "                # that the substring occured in two places and allow either\n",
    "                # to be returned by the app. For now, I am okay with just keeping the first occurance.\n",
    "                start_char = md_file_contents.find(answer_text)\n",
    "                end_char = start_char + len(answer_text)\n",
    "                answer_char_range = [start_char, end_char]\n",
    "                qa_entry = {\n",
    "                    \"query\": question,\n",
    "                    \"answer_doc\": f\"{article_title}.md\",\n",
    "                    \"answer_position\": answer_char_range,\n",
    "                    \"answer_text\": answer_text\n",
    "                }\n",
    "                final_qas.append(qa_entry)\n",
    "\n",
    "\n",
    "    file_path = output_dir / f\"{article_title}.md\"\n",
    "    with open(file_path, \"w\", encoding=\"utf-8\") as md_file:\n",
    "        md_file.write(md_file_contents)\n",
    "\n",
    "with open(qa_path, \"w\", encoding=\"utf-8\") as f:\n",
    "    json.dump(final_qas, f, indent=4)\n"
   ]
  }
 ],
 "metadata": {
  "kernelspec": {
   "display_name": "venv",
   "language": "python",
   "name": "python3"
  },
  "language_info": {
   "codemirror_mode": {
    "name": "ipython",
    "version": 3
   },
   "file_extension": ".py",
   "mimetype": "text/x-python",
   "name": "python",
   "nbconvert_exporter": "python",
   "pygments_lexer": "ipython3",
   "version": "3.12.8"
  }
 },
 "nbformat": 4,
 "nbformat_minor": 2
}
